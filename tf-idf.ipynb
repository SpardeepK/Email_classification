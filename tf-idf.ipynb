{
 "cells": [
  {
   "cell_type": "raw",
   "id": "3652f5ad",
   "metadata": {},
   "source": [
    "tf(term frequecny) = count of word in document / total number of words in document (2/7)"
   ]
  },
  {
   "cell_type": "raw",
   "id": "4ac46638",
   "metadata": {},
   "source": [
    "idf(inverse documnet frequency) = log(total number of documents/ number of documents containing that word) --> log(3/3)"
   ]
  },
  {
   "cell_type": "code",
   "execution_count": 1,
   "id": "e0833b74",
   "metadata": {},
   "outputs": [],
   "source": [
    "import numpy as np"
   ]
  },
  {
   "cell_type": "raw",
   "id": "4b080f95",
   "metadata": {},
   "source": [
    "tf-idf = tf*idf"
   ]
  },
  {
   "cell_type": "code",
   "execution_count": 2,
   "id": "e8476695",
   "metadata": {},
   "outputs": [
    {
     "data": {
      "text/plain": [
       "0.0"
      ]
     },
     "execution_count": 2,
     "metadata": {},
     "output_type": "execute_result"
    }
   ],
   "source": [
    "# for Python word\n",
    "\n",
    "tf = (1/4)\n",
    "\n",
    "idf = np.log(3/3)"
   ]
  },
  {
   "cell_type": "code",
   "execution_count": 4,
   "id": "41df4a69",
   "metadata": {},
   "outputs": [
    {
     "data": {
      "text/plain": [
       "0.0"
      ]
     },
     "execution_count": 4,
     "metadata": {},
     "output_type": "execute_result"
    }
   ],
   "source": [
    "0.25*0"
   ]
  },
  {
   "cell_type": "code",
   "execution_count": 1,
   "id": "827317ae",
   "metadata": {},
   "outputs": [],
   "source": [
    "sent1 = 'python for Machine Learning'\n",
    "sent2 = 'python is easy'\n",
    "sent3 = 'I like python'\n",
    " \n",
    "# After Removing stop words\n",
    "sent1 = 'python machine learning'\n",
    "sent2 = 'python easy'\n",
    "sent3 = 'like python'\n",
    "# merge documents into a single corpus\n",
    "string = [sent1, sent2, sent3]\n",
    "\n"
   ]
  },
  {
   "cell_type": "raw",
   "id": "126d4e22",
   "metadata": {},
   "source": [
    "# Tf values table\n",
    "\n",
    "# for d0 --> total number of words in document\n",
    " \n",
    "        python  machine  learning  easy    like\n",
    "\n",
    "sent1     1/3      1/3      1/3      0       0\n",
    "\n",
    "sent2     1/2      0         0       1/2     0\n",
    "\n",
    "sent3     1/2      0         0        0      1/2"
   ]
  },
  {
   "cell_type": "raw",
   "id": "95d1223c",
   "metadata": {},
   "source": [
    "# IDF Values table\n",
    "# total number of documents = 3\n",
    "\n",
    "          python        machine         learning          easy       like\n",
    "\n",
    "sent1    log(3/3)       log(3/1)        log(3/1)            0          0\n",
    "\n",
    "sent2    log(3/3)          0               0             log(3/1)      0\n",
    "\n",
    "sent3    log(3/3)          0               0                 0        log(3/1)\n",
    "\n"
   ]
  },
  {
   "cell_type": "raw",
   "id": "405d2256",
   "metadata": {},
   "source": [
    "# Final TF-IDF Table\n",
    "\n",
    "        python        machine         learning          easy       like\n",
    "\n",
    "sent1    0            0.366             0.366            0           0\n",
    "\n",
    "sent2    0              0                0               0.54        0     \n",
    "\n",
    "sent3    0              0                0                0         0.54\n",
    "\n",
    "\n"
   ]
  },
  {
   "cell_type": "markdown",
   "id": "ae32d6a2",
   "metadata": {},
   "source": [
    "# For Sklearn Library"
   ]
  },
  {
   "cell_type": "code",
   "execution_count": null,
   "id": "09e65caa",
   "metadata": {},
   "outputs": [],
   "source": [
    "idf= (log(total number of documents+1/ number of documents containing that word+1))+1"
   ]
  },
  {
   "cell_type": "raw",
   "id": "102988bf",
   "metadata": {},
   "source": [
    "# Final IDF Table for sklearn\n",
    "\n",
    "# IDF Values table\n",
    "# total number of documents = 3\n",
    "\n",
    "          python        machine         learning          easy              like\n",
    "\n",
    "sent1    log(4/4)+1      log(4/2)+1     log(4/2)+1            0               0\n",
    "\n",
    "sent2    log(4/4)+1          0               0             log(4/2)+1         0\n",
    "\n",
    "sent3    log(4/4)+1          0               0                 0           log(4/2)+1\n",
    "\n",
    "\n"
   ]
  },
  {
   "cell_type": "code",
   "execution_count": 5,
   "id": "93981039",
   "metadata": {},
   "outputs": [],
   "source": [
    "from sklearn.feature_extraction.text import TfidfVectorizer"
   ]
  },
  {
   "cell_type": "code",
   "execution_count": 6,
   "id": "0065d0f1",
   "metadata": {},
   "outputs": [],
   "source": [
    "tfidf = TfidfVectorizer()"
   ]
  },
  {
   "cell_type": "code",
   "execution_count": 7,
   "id": "83a7ec4e",
   "metadata": {},
   "outputs": [],
   "source": [
    "# After Removing stop words\n",
    "sent1 = 'python machine learning'\n",
    "sent2 = 'python easy'\n",
    "sent3 = 'like python'\n",
    "# merge documents into a single corpus\n",
    "string = [sent1, sent2, sent3]\n"
   ]
  },
  {
   "cell_type": "code",
   "execution_count": 8,
   "id": "89aa251b",
   "metadata": {},
   "outputs": [
    {
     "data": {
      "text/plain": [
       "['python machine learning', 'python easy', 'like python']"
      ]
     },
     "execution_count": 8,
     "metadata": {},
     "output_type": "execute_result"
    }
   ],
   "source": [
    "string"
   ]
  },
  {
   "cell_type": "code",
   "execution_count": 10,
   "id": "72c5dca0",
   "metadata": {},
   "outputs": [
    {
     "data": {
      "text/plain": [
       "array([[0.        , 0.65249088, 0.        , 0.65249088, 0.38537163],\n",
       "       [0.861037  , 0.        , 0.        , 0.        , 0.50854232],\n",
       "       [0.        , 0.        , 0.861037  , 0.        , 0.50854232]])"
      ]
     },
     "execution_count": 10,
     "metadata": {},
     "output_type": "execute_result"
    }
   ],
   "source": [
    "tfidf.fit_transform(string).toarray()"
   ]
  },
  {
   "cell_type": "code",
   "execution_count": 11,
   "id": "b2a04f8a",
   "metadata": {},
   "outputs": [
    {
     "data": {
      "text/plain": [
       "{'python': 4, 'machine': 3, 'learning': 1, 'easy': 0, 'like': 2}"
      ]
     },
     "execution_count": 11,
     "metadata": {},
     "output_type": "execute_result"
    }
   ],
   "source": [
    "tfidf.vocabulary_"
   ]
  },
  {
   "cell_type": "code",
   "execution_count": null,
   "id": "c0f96a68",
   "metadata": {},
   "outputs": [],
   "source": []
  },
  {
   "cell_type": "code",
   "execution_count": null,
   "id": "8bb760a8",
   "metadata": {},
   "outputs": [],
   "source": []
  },
  {
   "cell_type": "code",
   "execution_count": null,
   "id": "e52b21ea",
   "metadata": {},
   "outputs": [],
   "source": []
  },
  {
   "cell_type": "code",
   "execution_count": null,
   "id": "8c990e32",
   "metadata": {},
   "outputs": [],
   "source": []
  },
  {
   "cell_type": "code",
   "execution_count": null,
   "id": "0ef47c5d",
   "metadata": {},
   "outputs": [],
   "source": []
  },
  {
   "cell_type": "code",
   "execution_count": null,
   "id": "7a267010",
   "metadata": {},
   "outputs": [],
   "source": []
  },
  {
   "cell_type": "code",
   "execution_count": null,
   "id": "3227ea3f",
   "metadata": {},
   "outputs": [],
   "source": []
  },
  {
   "cell_type": "code",
   "execution_count": null,
   "id": "1403ca8f",
   "metadata": {},
   "outputs": [],
   "source": []
  },
  {
   "cell_type": "code",
   "execution_count": null,
   "id": "c7c5062c",
   "metadata": {},
   "outputs": [],
   "source": []
  }
 ],
 "metadata": {
  "kernelspec": {
   "display_name": "Python 3 (ipykernel)",
   "language": "python",
   "name": "python3"
  },
  "language_info": {
   "codemirror_mode": {
    "name": "ipython",
    "version": 3
   },
   "file_extension": ".py",
   "mimetype": "text/x-python",
   "name": "python",
   "nbconvert_exporter": "python",
   "pygments_lexer": "ipython3",
   "version": "3.9.12"
  }
 },
 "nbformat": 4,
 "nbformat_minor": 5
}
